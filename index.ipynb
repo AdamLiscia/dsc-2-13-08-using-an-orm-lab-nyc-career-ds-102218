{
 "cells": [
  {
   "cell_type": "markdown",
   "metadata": {},
   "source": [
    "# Using An ORM - Lab\n",
    "\n",
    "## Introduction\n",
    "\n",
    "In this lab, we'll make use of SQLAlchemy to execute CRUD operations on a SQL database!\n",
    "\n",
    "## Objectives\n",
    "\n",
    "You will learn how to:\n",
    "\n",
    "* Identify the steps needed to use SQLAlchemy with a database\n",
    "* Understand and explain the concept of an Object Relational Mapper\n",
    "* Execute CRUD operations on a database using SQLAlchemy\n",
    "\n",
    "### Getting Started\n",
    "\n",
    "In this lesson, we'll make use of our newfound SQLAlchemy knowledge to create a database, populate it with data, and write queries to retrieve objects containing the information we want. \n",
    "\n",
    "We'll start by setting up our database. For this lesson, we're going to create then database described in the following ERD:\n",
    "\n",
    "<img src='erd.png'>\n",
    "\n",
    "\n",
    "**_Question:_**\n",
    "\n",
    "What sort of relationship do customers have with shopping carts? What sort of relationship do shopping carts have with items?\n",
    "\n",
    "Write your answer below this line:\n",
    "________________________________________________________________________________________________________________________________\n",
    "\n",
    "Customers have a 1-to-1 relationship with shopping carts, while shopping carts have 1-to-many relationship with items.\n",
    "\n",
    "\n",
    "### Defining Our Mappings\n",
    "\n",
    "We'll begin by importing everything we need to create our database and structure our mappings so that they look like the tables in the ERD.  \n",
    "\n",
    "In the cell below:\n",
    "\n",
    "* Import everything from sqlalchemy\n",
    "* Import `declarative_base` \n",
    "* Create a `Base` object"
   ]
  },
  {
   "cell_type": "code",
   "execution_count": 1,
   "metadata": {},
   "outputs": [],
   "source": [
    "from sqlalchemy import *\n",
    "from sqlalchemy.ext.declarative import declarative_base\n",
    "\n",
    "Base = declarative_base()"
   ]
  },
  {
   "cell_type": "markdown",
   "metadata": {},
   "source": [
    "Good! Now, since we'll need to define relationships between our tables, we'll need to import one more thing. In the cell below, import `relationship` from sqlalchemy's `orm` module. \n",
    "\n",
    "**_Note_**: Make sure you import `relationship`, not the plural `relationships`!"
   ]
  },
  {
   "cell_type": "code",
   "execution_count": 2,
   "metadata": {},
   "outputs": [],
   "source": [
    "from sqlalchemy.orm import relationship"
   ]
  },
  {
   "cell_type": "markdown",
   "metadata": {},
   "source": [
    "#### Creating Our Class Mappings\n",
    "\n",
    "Now that we've created a `Base` object, we can define our classes! \n",
    "\n",
    "In order to set up our classes, we'll need to define:\n",
    "\n",
    "* The `__tablename__` for each class\n",
    "* The attributes of each class, which will be `Column` objects\n",
    "* The `relationship` that each class has to other classes\n",
    "\n",
    "Although we haven't explicitly covered how to create relationships, it's not hard--just a single line of code.  This is a great opportunity to get some practice finding what you need from documentation, and the SQLAlchemy documentation is really informative and easy to understand. \n",
    "\n",
    "We'll be creating a 1-to-1 relationship (Customer <--> ShoppingCart), and a 1-to-many relationship (ShoppingCart <--> Item). Take a look at the documenation for creating relationships and see if you can figure out how to set this up!\n",
    "\n",
    "In the cell below: \n",
    "\n",
    "* Complete the `Customer`, `ShoppingCart`, and `Item` classes. \n",
    "* Give each class the correct table name ('customer', 'shoppingCart', and 'Item')\n",
    "* Define the correct columns for each class, with the appropriate data types, and set the appropriate primary key and foreign keys.\n",
    "* Set the appropriate relationships between classes.\n",
    "\n",
    "**_Hint:_** When setting the relationships, pay attention to the capitalization in the documenation--in some parts, you reference the name of the class, while in others, you reference the name of the table!\n",
    "\n",
    "**_Note:_** Running a cell more than one time will cause a \"Table is already defined\" error.  To fix this, just restart the kernel and run everything again. "
   ]
  },
  {
   "cell_type": "code",
   "execution_count": 3,
   "metadata": {},
   "outputs": [],
   "source": [
    "class Customer(Base):\n",
    "    __tablename__ = 'customer'\n",
    "    \n",
    "    id = Column(Integer, primary_key=True)\n",
    "    name = Column(String)\n",
    "    cart_id = Column(Integer, ForeignKey('shoppingCart.id'))\n",
    "    \n",
    "    # Create 1-to-1 relationship with ShoppingCart, as shown in the SQLAlchemy documentation\n",
    "    cart = relationship('ShoppingCart', uselist=False, back_populates='customer')\n"
   ]
  },
  {
   "cell_type": "code",
   "execution_count": 4,
   "metadata": {},
   "outputs": [],
   "source": [
    "class ShoppingCart(Base):\n",
    "    __tablename__ = \"shoppingCart\"\n",
    "    \n",
    "    id = Column(Integer, primary_key=True)\n",
    "    item_id = Column(Integer, ForeignKey('item.id'))\n",
    "    # Create 1-to-1 relationship with Customer\n",
    "    customer = relationship('Customer', uselist=False, back_populates='shoppingCart')\n",
    "    # Create 1-to-many relationship with Item\n",
    "    items = relationship('Item')"
   ]
  },
  {
   "cell_type": "code",
   "execution_count": 5,
   "metadata": {},
   "outputs": [],
   "source": [
    "class Item(Base):\n",
    "    __tablename__ = 'item'\n",
    "    \n",
    "    id = Column(Integer, primary_key=True)\n",
    "    description = Column(String)\n",
    "    price = Column(Float)"
   ]
  },
  {
   "cell_type": "markdown",
   "metadata": {},
   "source": [
    "### Creating Our Database\n",
    "\n",
    "Now that we've successfully defined our mappings, we can actually create our database. We'll call our database `shopping_cart.db`.\n",
    "\n",
    "In the cell below:\n",
    "\n",
    "* Create an `engine` using the appropriate method. \n",
    "* Use the `create_all()` method found inside of `Base.metadata` and pass in the engine object to create our database!"
   ]
  },
  {
   "cell_type": "code",
   "execution_count": 6,
   "metadata": {},
   "outputs": [
    {
     "name": "stdout",
     "output_type": "stream",
     "text": [
      "2018-10-22 23:48:20,307 INFO sqlalchemy.engine.base.Engine SELECT CAST('test plain returns' AS VARCHAR(60)) AS anon_1\n",
      "2018-10-22 23:48:20,312 INFO sqlalchemy.engine.base.Engine ()\n",
      "2018-10-22 23:48:20,314 INFO sqlalchemy.engine.base.Engine SELECT CAST('test unicode returns' AS VARCHAR(60)) AS anon_1\n",
      "2018-10-22 23:48:20,315 INFO sqlalchemy.engine.base.Engine ()\n",
      "2018-10-22 23:48:20,316 INFO sqlalchemy.engine.base.Engine PRAGMA table_info(\"customer\")\n",
      "2018-10-22 23:48:20,317 INFO sqlalchemy.engine.base.Engine ()\n",
      "2018-10-22 23:48:20,318 INFO sqlalchemy.engine.base.Engine PRAGMA table_info(\"shoppingCart\")\n",
      "2018-10-22 23:48:20,319 INFO sqlalchemy.engine.base.Engine ()\n",
      "2018-10-22 23:48:20,320 INFO sqlalchemy.engine.base.Engine PRAGMA table_info(\"item\")\n",
      "2018-10-22 23:48:20,320 INFO sqlalchemy.engine.base.Engine ()\n",
      "2018-10-22 23:48:20,322 INFO sqlalchemy.engine.base.Engine \n",
      "CREATE TABLE item (\n",
      "\tid INTEGER NOT NULL, \n",
      "\tdescription VARCHAR, \n",
      "\tprice FLOAT, \n",
      "\tPRIMARY KEY (id)\n",
      ")\n",
      "\n",
      "\n",
      "2018-10-22 23:48:20,322 INFO sqlalchemy.engine.base.Engine ()\n",
      "2018-10-22 23:48:20,339 INFO sqlalchemy.engine.base.Engine COMMIT\n",
      "2018-10-22 23:48:20,341 INFO sqlalchemy.engine.base.Engine \n",
      "CREATE TABLE \"shoppingCart\" (\n",
      "\tid INTEGER NOT NULL, \n",
      "\titem_id INTEGER, \n",
      "\tPRIMARY KEY (id), \n",
      "\tFOREIGN KEY(item_id) REFERENCES item (id)\n",
      ")\n",
      "\n",
      "\n",
      "2018-10-22 23:48:20,341 INFO sqlalchemy.engine.base.Engine ()\n",
      "2018-10-22 23:48:20,354 INFO sqlalchemy.engine.base.Engine COMMIT\n",
      "2018-10-22 23:48:20,355 INFO sqlalchemy.engine.base.Engine \n",
      "CREATE TABLE customer (\n",
      "\tid INTEGER NOT NULL, \n",
      "\tname VARCHAR, \n",
      "\tcart_id INTEGER, \n",
      "\tPRIMARY KEY (id), \n",
      "\tFOREIGN KEY(cart_id) REFERENCES \"shoppingCart\" (id)\n",
      ")\n",
      "\n",
      "\n",
      "2018-10-22 23:48:20,356 INFO sqlalchemy.engine.base.Engine ()\n",
      "2018-10-22 23:48:20,371 INFO sqlalchemy.engine.base.Engine COMMIT\n"
     ]
    }
   ],
   "source": [
    "engine = create_engine('sqlite:///shopping_cart.db', echo=True)\n",
    "Base.metadata.create_all(engine)"
   ]
  },
  {
   "cell_type": "code",
   "execution_count": null,
   "metadata": {},
   "outputs": [],
   "source": []
  }
 ],
 "metadata": {
  "kernelspec": {
   "display_name": "Python 3",
   "language": "python",
   "name": "python3"
  },
  "language_info": {
   "codemirror_mode": {
    "name": "ipython",
    "version": 3
   },
   "file_extension": ".py",
   "mimetype": "text/x-python",
   "name": "python",
   "nbconvert_exporter": "python",
   "pygments_lexer": "ipython3",
   "version": "3.6.5"
  }
 },
 "nbformat": 4,
 "nbformat_minor": 2
}
